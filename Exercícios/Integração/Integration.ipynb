{
 "cells": [
  {
   "cell_type": "code",
   "execution_count": null,
   "metadata": {},
   "outputs": [],
   "source": [
    "from matplotlib.pyplot import figure, rc\n",
    "from numpy import zeros, linspace\n",
    "from numpy.typing import NDArray\n",
    "from typing import Callable, Any\n",
    "from itertools import pairwise\n",
    "from numpy import floating"
   ]
  },
  {
   "cell_type": "code",
   "execution_count": null,
   "metadata": {},
   "outputs": [],
   "source": [
    "NDArray = NDArray[floating[Any]]\n",
    "Function = Callable[[NDArray], NDArray]"
   ]
  },
  {
   "cell_type": "code",
   "execution_count": null,
   "metadata": {},
   "outputs": [],
   "source": [
    "def curve(D: NDArray, I: NDArray, n: int):\n",
    "  G = D.reshape(-1, 1) ** range(n)\n",
    "  A, B = (G.T @ G), (G.T @ I)\n",
    "\n",
    "  L, U = zeros((n, n)), A\n",
    "  L.flat[::(n + 1)] = 1\n",
    "\n",
    "  for i, ii in pairwise(range(n)):\n",
    "    L[ii:, i] = U[ii:, i] / U[i, i]\n",
    "    U[ii:] -= L[ii:, i, None] * U[i]\n",
    "\n",
    "  x, y = zeros(n), zeros(n)\n",
    "\n",
    "  for i in range(n):\n",
    "    y[i] = B[i] - (L[i] * y).sum()\n",
    "\n",
    "  for i in reversed(range(n)):\n",
    "    temp = y[i] - (U[i] * x).sum()\n",
    "    x[i] = temp / U[i, i]\n",
    "\n",
    "  return (G @ x)"
   ]
  },
  {
   "cell_type": "code",
   "execution_count": null,
   "metadata": {},
   "outputs": [],
   "source": [
    "def integral(func: Function, a: int, b: int, n: int):\n",
    "  def trapezio(D: NDArray, I: NDArray):\n",
    "    diff = (D[1:] - D[:-1]).mean() / 2\n",
    "    return diff * (2 * I.sum() - I[0] - I[-1])\n",
    "\n",
    "  def simpson(D: NDArray, I: NDArray):\n",
    "    diff = (D[1:] - D[:-1]).mean() / 3\n",
    "    prt1, prt2 = I[1:-1:2].sum(), I[2:-2:2].sum()\n",
    "    return diff * (I[0] + I[-1] + 4 * prt1 + 2 * prt2)\n",
    "\n",
    "  I1 = func(D1 := linspace(a, b, 1000))\n",
    "  I2 = func(D2 := linspace(a, b, n))\n",
    "  I3 = curve(D2, func(D2), 10)\n",
    "  F1 = (D2, I2, trapezio(D2, I2), simpson(D2, I2))\n",
    "  F2 = (D2, I3, trapezio(D2, I3), simpson(D2, I3))\n",
    "\n",
    "  return (D1, I1, F1, F2)"
   ]
  },
  {
   "cell_type": "code",
   "execution_count": null,
   "metadata": {},
   "outputs": [],
   "source": [
    "def plotgfx(D1, I1, F1, F2):\n",
    "  rc(\"font\", family = \"Arial\", size = 10)\n",
    "  rc(\"lines\", aa = 1, lw = .5)\n",
    "\n",
    "  fig = figure(figsize = (12, 3))\n",
    "  axes = fig.subplots(1, 2); fig.dpi = 400\n",
    "\n",
    "  for (axe, label, (D, I, R1, R2)) in zip(\n",
    "      axes, (\"Aproximado\", \"Ajustado\"), (F1, F2)):\n",
    "    axe.plot(D1, I1, label = \"Original\", c = \"r\")\n",
    "    axe.plot(D, I, label = label, c = \"k\")\n",
    "    axe.fill_between(D, I, color = \"k\", alpha = .3)\n",
    "    axe.set_title(f\"Trapézio: {R1}, Simpson: {R2}\")\n",
    "    axe.set_xlabel(\"Domínio da função\")\n",
    "    axe.set_ylabel(\"Imagem da função\")\n",
    "    axe.legend()\n",
    "\n",
    "  fig.suptitle(\"Integralização da Função\")\n",
    "  fig.tight_layout(pad = 1)"
   ]
  },
  {
   "cell_type": "code",
   "execution_count": null,
   "metadata": {},
   "outputs": [],
   "source": [
    "plotgfx(*integral(lambda x: x**(1/2), 1, 4, 5))\n",
    "plotgfx(*integral(lambda x: x**(1/2), 1, 4, 7))\n",
    "plotgfx(*integral(lambda x: 1/(x**(1/2)), 2, 14, 5))\n",
    "plotgfx(*integral(lambda x: 1/(x**(1/2)), 2, 14, 7))"
   ]
  }
 ],
 "metadata": {
  "kernelspec": {
   "display_name": "Python 3",
   "language": "python",
   "name": "python3"
  },
  "language_info": {
   "codemirror_mode": {
    "name": "ipython",
    "version": 3
   },
   "file_extension": ".py",
   "mimetype": "text/x-python",
   "name": "python",
   "nbconvert_exporter": "python",
   "pygments_lexer": "ipython3",
   "version": "3.12.4"
  },
  "orig_nbformat": 4
 },
 "nbformat": 4,
 "nbformat_minor": 2
}
