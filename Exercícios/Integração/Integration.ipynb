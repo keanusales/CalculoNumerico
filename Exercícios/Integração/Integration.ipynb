{
 "cells": [
  {
   "cell_type": "code",
   "execution_count": null,
   "metadata": {},
   "outputs": [],
   "source": [
    "from numpy import linspace, fromiter\n",
    "from numpy import zeros, arange, ndarray\n",
    "from matplotlib.pyplot import figure, rc\n",
    "from typing import Callable\n",
    "from math import sin, pi, e"
   ]
  },
  {
   "cell_type": "code",
   "execution_count": null,
   "metadata": {},
   "outputs": [],
   "source": [
    "class CurveAdjust:\n",
    "  def __init__(self, func: Callable, inter: tuple[int, int], m: int, n: int):\n",
    "    (self.n1, self.n2), self.m, self.n = inter, m, n\n",
    "    self.D = D = linspace(self.n1, self.n2, m)\n",
    "    self.I = I = fromiter((func(x) for x in D), float, m)\n",
    "    self.G = G = D.reshape(-1, 1) ** arange(n)\n",
    "    self.A, self.B = (G.T @ G), (G.T @ I)\n",
    "    self.fatoraçãoLU()\n",
    "\n",
    "  def fatoraçãoLU(self):\n",
    "    L = zeros((self.n, self.n))\n",
    "    L.flat[::self.n + 1] = 1\n",
    "    U = self.A\n",
    "\n",
    "    for i1, i2 in arange(self.n-1).reshape(-1, 1) + (0, 1):\n",
    "      L[i2:, i1] = U[i2:, i1] / U[i1, i1]\n",
    "      U[i2:] -= L[i2:, i1, None] * U[i1]\n",
    "\n",
    "    x, y = zeros(self.n), zeros(self.n)\n",
    "\n",
    "    for i in arange(self.n):\n",
    "      y[i] = self.B[i] - sum(L[i] * y)\n",
    "    for i in arange(self.n)[::-1]:\n",
    "      x[i] = (y[i] - sum(U[i] * x)) / U[i, i]\n",
    "\n",
    "    self.RD = D = linspace(self.n1, self.n2, self.m)\n",
    "    self.RI = (D.reshape(-1, 1) ** arange(self.n)) @ x"
   ]
  },
  {
   "cell_type": "code",
   "execution_count": null,
   "metadata": {},
   "outputs": [],
   "source": [
    "class Integral:\n",
    "  def __init__(self, func: Callable, inter: tuple[int, int], n: int):\n",
    "    (i1, i2), self.func = inter, func\n",
    "    self.D1, self.I1 = self.tuplas(i1, i2, 1000)\n",
    "    adjust = CurveAdjust(func, (i1, i2), n, 10)\n",
    "    (D2, I2), (D3, I3) = self.tuplas(i1, i2, n), (adjust.RD, adjust.RI)\n",
    "    self.F1 = (D2, I2, self.trapezio(D2, I2), self.simpson(D2, I2))\n",
    "    self.F2 = (D3, I3, self.trapezio(D3, I3), self.simpson(D3, I3))\n",
    "    self.plotgfx()\n",
    "\n",
    "  def tuplas(self, a: int, b: int, n: int):\n",
    "    func, D = self.func, linspace(a, b, n)\n",
    "    return D, fromiter((func(x) for x in D), float, n)\n",
    "\n",
    "  def trapezio(self, D: ndarray, I: ndarray):\n",
    "    diff = (D[1:] - D[:-1]).mean() / 2\n",
    "    return diff * (2 * I.sum() - I[0] - I[-1])\n",
    "\n",
    "  def simpson(self, D: ndarray, I: ndarray):\n",
    "    diff = (D[1:] - D[:-1]).mean() / 3\n",
    "    prt1, prt2 = I[1:-1:2].sum(), I[2:-2:2].sum()\n",
    "    return diff * (I[0] + I[-1] + 4 * prt1 + 2 * prt2)\n",
    "\n",
    "  def plotgfx(self):\n",
    "    rc(\"font\", family = \"Consolas\", size = 7.5)\n",
    "    rc(\"lines\", aa = 1, lw = .5)\n",
    "\n",
    "    fig = figure(figsize = (12, 3))\n",
    "    axes = fig.subplots(1, 2)\n",
    "    fig.dpi = 400\n",
    "\n",
    "    labels = (\"Aproximado\", \"Ajustado\")\n",
    "    for (i, (D, I, R1, R2)) in enumerate((self.F1, self.F2)):\n",
    "      axes[i].plot(self.D1, self.I1, label = \"Original\", c = \"r\")\n",
    "      axes[i].plot(D, I, label = labels[i], c = \"k\")\n",
    "      axes[i].fill_between(D, I, color = \"k\", alpha = .3)\n",
    "      axes[i].set_title(f\"Trapézio: {R1}, Simpson: {R2}\")\n",
    "      axes[i].set_xlabel(\"Domínio da função\")\n",
    "      axes[i].set_ylabel(\"Imagem da função\")\n",
    "      axes[i].legend()\n",
    "\n",
    "    fig.suptitle(\"Integralização da Função\")\n",
    "    fig.tight_layout(pad = 1)"
   ]
  },
  {
   "cell_type": "code",
   "execution_count": null,
   "metadata": {},
   "outputs": [],
   "source": [
    "Integral(lambda x: e**x, (1, 2), 5)\n",
    "Integral(lambda x: e**x, (1, 2), 7)\n",
    "Integral(lambda x: x**(1/2), (1, 4), 5)\n",
    "Integral(lambda x: x**(1/2), (1, 4), 7)\n",
    "Integral(lambda x: 1/(x**(1/2)), (2, 14), 5)\n",
    "Integral(lambda x: 1/(x**(1/2)), (2, 14), 7)"
   ]
  }
 ],
 "metadata": {
  "kernelspec": {
   "display_name": "Python 3",
   "language": "python",
   "name": "python3"
  },
  "language_info": {
   "codemirror_mode": {
    "name": "ipython",
    "version": 3
   },
   "file_extension": ".py",
   "mimetype": "text/x-python",
   "name": "python",
   "nbconvert_exporter": "python",
   "pygments_lexer": "ipython3",
   "version": "3.11.0"
  },
  "orig_nbformat": 4
 },
 "nbformat": 4,
 "nbformat_minor": 2
}
