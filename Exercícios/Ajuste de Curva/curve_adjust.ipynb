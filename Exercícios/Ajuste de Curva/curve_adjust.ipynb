{
 "cells": [
  {
   "attachments": {},
   "cell_type": "markdown",
   "metadata": {},
   "source": [
    "# Ajuste de Curva"
   ]
  },
  {
   "attachments": {},
   "cell_type": "markdown",
   "metadata": {},
   "source": [
    "#### Imports"
   ]
  },
  {
   "cell_type": "code",
   "execution_count": null,
   "metadata": {},
   "outputs": [],
   "source": [
    "from matplotlib.pyplot import rc, figure\n",
    "from numpy import zeros, linspace, cos\n",
    "from numpy import errstate, float64\n",
    "from numpy.typing import NDArray\n",
    "from itertools import pairwise\n",
    "from typing import Callable"
   ]
  },
  {
   "cell_type": "markdown",
   "metadata": {},
   "source": [
    "#### Definições de Tipo"
   ]
  },
  {
   "cell_type": "code",
   "execution_count": null,
   "metadata": {},
   "outputs": [],
   "source": [
    "NDArray = NDArray[float64]\n",
    "Function = Callable[[NDArray], NDArray]"
   ]
  },
  {
   "attachments": {},
   "cell_type": "markdown",
   "metadata": {},
   "source": [
    "#### Ajuste de curva"
   ]
  },
  {
   "cell_type": "code",
   "execution_count": null,
   "metadata": {},
   "outputs": [],
   "source": [
    "def adjust(D: NDArray, I: NDArray, degree: int):\n",
    "  with errstate(all = \"raise\"):\n",
    "    G = D[:, None] ** range(degree)\n",
    "    L = zeros((degree, degree))\n",
    "    U, A = (G.T @ G), (G.T @ I)\n",
    "    L.flat[::(degree + 1)] = 1\n",
    "    for i, ii in pairwise(range(degree)):\n",
    "      L[ii:, i] = U[ii:, i] / U[i, i]\n",
    "      U[ii:] -= L[ii:, i, None] * U[i]\n",
    "    x, y = zeros(degree), zeros(degree)\n",
    "    for i in range(degree):\n",
    "      y[i] = A[i] - (L[i] @ y)\n",
    "    for i in reversed(range(degree)):\n",
    "      temp = y[i] - (U[i] @ x)\n",
    "      x[i] = temp / U[i, i]\n",
    "    return (G @ x)"
   ]
  },
  {
   "cell_type": "markdown",
   "metadata": {},
   "source": [
    "#### Plotagem de gráficos"
   ]
  },
  {
   "cell_type": "code",
   "execution_count": null,
   "metadata": {},
   "outputs": [],
   "source": [
    "def plt_img(D: NDArray, I: NDArray, R: NDArray):\n",
    "  rc(\"font\", family = \"Arial\", size = 10)\n",
    "  rc(\"lines\", aa = True, lw = .5)\n",
    "  fig = figure(None, (12, 5), 200)\n",
    "  axe = fig.subplots()\n",
    "\n",
    "  axe.set_title(\"Ajuste de Curva\")\n",
    "  axe.plot(D, I, label = \"Original\")\n",
    "  axe.plot(D, R, label = \"Ajustado\")\n",
    "  axe.set_xlabel(\"Domínio\")\n",
    "  axe.set_ylabel(\"Imagem\")\n",
    "  axe.legend()\n",
    "\n",
    "  fig.tight_layout(pad = 1)"
   ]
  },
  {
   "cell_type": "markdown",
   "metadata": {},
   "source": [
    "#### Função main"
   ]
  },
  {
   "cell_type": "code",
   "execution_count": null,
   "metadata": {},
   "outputs": [],
   "source": [
    "def main(f: Function, a: float, b: float, p: int, n: int):\n",
    "  plt_img((D := linspace(a, b, p)), (I := f(D)), adjust(D, I, n))"
   ]
  },
  {
   "attachments": {},
   "cell_type": "markdown",
   "metadata": {},
   "source": [
    "#### Execução do Código"
   ]
  },
  {
   "cell_type": "code",
   "execution_count": null,
   "metadata": {},
   "outputs": [],
   "source": [
    "main(lambda x: cos(x) + cos(2.5 * x) + cos((2**.35) * x), -15, 15, 2000, 65)"
   ]
  }
 ],
 "metadata": {
  "kernelspec": {
   "display_name": "Python 3",
   "language": "python",
   "name": "python3"
  },
  "language_info": {
   "codemirror_mode": {
    "name": "ipython",
    "version": 3
   },
   "file_extension": ".py",
   "mimetype": "text/x-python",
   "name": "python",
   "nbconvert_exporter": "python",
   "pygments_lexer": "ipython3",
   "version": "3.13.2"
  },
  "orig_nbformat": 4
 },
 "nbformat": 4,
 "nbformat_minor": 2
}
