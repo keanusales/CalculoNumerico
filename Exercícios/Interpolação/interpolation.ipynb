{
 "cells": [
  {
   "attachments": {},
   "cell_type": "markdown",
   "metadata": {},
   "source": [
    "# Interpolação"
   ]
  },
  {
   "attachments": {},
   "cell_type": "markdown",
   "metadata": {},
   "source": [
    "#### Imports"
   ]
  },
  {
   "cell_type": "code",
   "execution_count": null,
   "metadata": {},
   "outputs": [],
   "source": [
    "from numpy import zeros, concatenate, linspace\n",
    "from matplotlib.pyplot import figure, rc\n",
    "from numpy.typing import NDArray\n",
    "from itertools import pairwise\n",
    "from typing import Callable"
   ]
  },
  {
   "cell_type": "markdown",
   "metadata": {},
   "source": [
    "#### Classe Interpolação"
   ]
  },
  {
   "cell_type": "code",
   "execution_count": null,
   "metadata": {},
   "outputs": [],
   "source": [
    "function = Callable[[float | NDArray], float | NDArray]\n",
    "\n",
    "class Interpolção:\n",
    "  __slots__ = \"D\", \"A\", \"f\", \"n\", \"I\", \"B\", \"zipper\", \"respol\", \"resnew\"\n",
    "\n",
    "  def __init__(self, func: function, inter: tuple[int, int], n: int, spl: int):\n",
    "    (i1, i2), (div, mod) = inter, divmod(n, spl) if spl else (1, 0)\n",
    "    self.D, self.A = linspace(i1, i2, 5000), linspace(i1, i2, n)\n",
    "    self.f, self.n = div, (spl + 1) if (mod == 1) else n\n",
    "    self.I, self.B = func(self.D), func(self.A)\n",
    "\n",
    "    self.zipper = [*zip(self.spliter(self.D, 1),\n",
    "                        self.spliter(self.A, 0),\n",
    "                        self.spliter(self.B, 0))]\n",
    "\n",
    "    self.interpol(); self.internew(); self.plotgfx()\n",
    "\n",
    "  def spliter(self, array: NDArray, flag: bool):\n",
    "    fator = (array.size / self.f) if flag else self.n\n",
    "    a, b, c = fator, (array.size - fator), array.size\n",
    "    points = linspace((0, a), (b, c), self.f, dtype = int)\n",
    "    return (array[a:b] for a, b in points)\n",
    "\n",
    "  def interpol(self): # Interpolação Polinomial\n",
    "    def interpol(D: NDArray, A: NDArray, B: NDArray):\n",
    "      L = zeros((self.n, self.n))\n",
    "      L.flat[::self.n + 1] = 1\n",
    "      U = A.reshape(-1, 1) ** range(self.n)\n",
    "\n",
    "      for i1, i2 in pairwise(range(self.n)):\n",
    "        L[i2:, i1] = U[i2:, i1] / U[i1, i1]\n",
    "        U[i2:] -= L[i2:, i1, None] * U[i1]\n",
    "\n",
    "      x, y = zeros(self.n), zeros(self.n)\n",
    "\n",
    "      for i in range(self.n):\n",
    "        y[i] = B[i] - (L[i] * y).sum()\n",
    "      for i in range(self.n)[::-1]:\n",
    "        x[i] = (y[i] - (U[i] * x).sum()) / U[i, i]\n",
    "\n",
    "      return (D.reshape(-1, 1) ** range(self.n)) @ x\n",
    "\n",
    "    lista = [interpol(*tupla) for tupla in self.zipper]\n",
    "    self.respol = concatenate(lista)\n",
    "\n",
    "  def internew(self): # Interpolação de Newton\n",
    "    def internew(D: NDArray, A: NDArray, B: NDArray):\n",
    "      M = zeros((self.n, self.n)); M[:, 0] = B\n",
    "\n",
    "      for i1, i2 in pairwise(range(self.n)):\n",
    "        temp = (M[i2:, i1] - M[i1:-1, i1])\n",
    "        M[i2:, i2] = temp / (A[i2] - A[0])\n",
    "\n",
    "      diag = M.diagonal()\n",
    "      pontos = D.reshape(-1, 1) - A[:-1]\n",
    "      return pontos.cumprod(1) @ diag[1:] + diag[0]\n",
    "\n",
    "    lista = [internew(*tupla) for tupla in self.zipper]\n",
    "    self.resnew = concatenate(lista)\n",
    "\n",
    "  def plotgfx(self): # Plotagem das iterpolações\n",
    "    rc(\"font\", family = \"Consolas\", size = 7.5)\n",
    "    rc(\"lines\", aa = 1, lw = .5, markersize = 1)\n",
    "\n",
    "    origin, pontos = \"Original\", \"Interpolações\"\n",
    "    labels = (\"Int. Polinomial\", \"Int. de Newton\")\n",
    "    imagens = (self.respol, self.resnew)\n",
    "\n",
    "    fig = figure(figsize = (12, 3.5)); fig.dpi = 400\n",
    "    axes = fig.subplots(1, len(imagens))\n",
    "\n",
    "    for axe, label, imagem in zip(axes, labels, imagens):\n",
    "      axe.plot(self.D, self.I, c = \"k\", label = origin)\n",
    "      axe.scatter(self.A, self.B, c = \"r\", label = pontos)\n",
    "      axe.plot(self.D, imagem, c = \"m\", label = label)\n",
    "      axe.set_title(\"Comparação das Interpolações\")\n",
    "      axe.set_xlabel(\"Domínio das funções\")\n",
    "      axe.set_ylabel(\"Imagens das funções\")\n",
    "      axe.legend()\n",
    "\n",
    "    fig.tight_layout(pad = 1)"
   ]
  },
  {
   "attachments": {},
   "cell_type": "markdown",
   "metadata": {},
   "source": [
    "#### Execução do Código"
   ]
  },
  {
   "cell_type": "code",
   "execution_count": null,
   "metadata": {},
   "outputs": [],
   "source": [
    "Interpolção(lambda x: 1/(1 + 25*x**2), (-1, 1), 10, 0); pass"
   ]
  },
  {
   "cell_type": "code",
   "execution_count": null,
   "metadata": {},
   "outputs": [],
   "source": [
    "Interpolção(lambda x: 1/(1 + 25*x**2), (-1, 1), 10, 3); pass"
   ]
  }
 ],
 "metadata": {
  "kernelspec": {
   "display_name": "Python 3",
   "language": "python",
   "name": "python3"
  },
  "language_info": {
   "codemirror_mode": {
    "name": "ipython",
    "version": 3
   },
   "file_extension": ".py",
   "mimetype": "text/x-python",
   "name": "python",
   "nbconvert_exporter": "python",
   "pygments_lexer": "ipython3",
   "version": "3.12.4"
  },
  "orig_nbformat": 4
 },
 "nbformat": 4,
 "nbformat_minor": 2
}
