{
 "cells": [
  {
   "attachments": {},
   "cell_type": "markdown",
   "metadata": {},
   "source": [
    "# Resolução de Sistemas Não-Lineares"
   ]
  },
  {
   "attachments": {},
   "cell_type": "markdown",
   "metadata": {},
   "source": [
    "### Imports"
   ]
  },
  {
   "cell_type": "code",
   "execution_count": 1,
   "metadata": {},
   "outputs": [],
   "source": [
    "from numpy.random import randn\n",
    "from numpy import ndarray, arange, fromiter, errstate\n",
    "from typing import Callable\n",
    "from itertools import count\n",
    "from math import e"
   ]
  },
  {
   "attachments": {},
   "cell_type": "markdown",
   "metadata": {},
   "source": [
    "### Cálculo da Matriz Jacobiana"
   ]
  },
  {
   "cell_type": "code",
   "execution_count": 2,
   "metadata": {},
   "outputs": [],
   "source": [
    "def secante(func: Callable, x: ndarray, e = 1e-15):\n",
    "\n",
    "  def diff(i: int):\n",
    "    b = x.copy(); b[i] += e\n",
    "    fx, fb = func(*x), func(*b)\n",
    "    return (fb - fx) / (b[i] - x[i])\n",
    "\n",
    "  n = x.size\n",
    "  return fromiter((diff(i) for i in arange(n)), float, n)"
   ]
  },
  {
   "attachments": {},
   "cell_type": "markdown",
   "metadata": {},
   "source": [
    "### Método de Gauss-Jacobi"
   ]
  },
  {
   "cell_type": "code",
   "execution_count": 3,
   "metadata": {},
   "outputs": [],
   "source": [
    "def gauss_jacobi(A: ndarray, b: ndarray, e = 1e-15):\n",
    "  n = A.shape[0]\n",
    "  diag = A.diagonal()\n",
    "\n",
    "  x = randn(n)\n",
    "  C = -A / diag.reshape(n, 1)\n",
    "  C.flat[::n+1] = 0\n",
    "  G = b / diag\n",
    "\n",
    "  cont = count()\n",
    "  while next(cont) < 100:\n",
    "    x_ant, x = x, C @ x + G\n",
    "    if max(abs(x - x_ant)) < e: return x\n",
    "\n",
    "  raise FloatingPointError"
   ]
  },
  {
   "attachments": {},
   "cell_type": "markdown",
   "metadata": {},
   "source": [
    "### Método de Newton"
   ]
  },
  {
   "cell_type": "code",
   "execution_count": 4,
   "metadata": {},
   "outputs": [],
   "source": [
    "def newton(A: tuple[Callable], e = 1e-15):\n",
    "  ERRO1 = \"Qtd. diferente de variáveis nas funções!\"\n",
    "  ERRO2 = \"Qtd. de variáveis difere da de funções!\"\n",
    "\n",
    "  try: [n] = set(func.__code__.co_argcount for func in A)\n",
    "  except ValueError: raise ValueError(ERRO1) from None\n",
    "  if n != len(A): raise ValueError(ERRO2)\n",
    "\n",
    "  @errstate(all = \"raise\")\n",
    "  def newton(x: ndarray):\n",
    "    while 1:\n",
    "      F = -fromiter((func(*x) for func in A), float, n)\n",
    "      J = fromiter((secante(func, x) for func in A), f\"{n}f8\", n)\n",
    "      x += (s := gauss_jacobi(J, F))\n",
    "      if max(abs(s)) < e: break\n",
    "\n",
    "  while 1:\n",
    "    try: newton(x := randn(n))\n",
    "    except FloatingPointError: continue\n",
    "    else: break\n",
    "\n",
    "  return x, fromiter((func(*x) for func in A), float, n)"
   ]
  },
  {
   "attachments": {},
   "cell_type": "markdown",
   "metadata": {},
   "source": [
    "### Execução do código"
   ]
  },
  {
   "cell_type": "code",
   "execution_count": 7,
   "metadata": {},
   "outputs": [
    {
     "data": {
      "text/plain": [
       "(array([-0.71374741,  1.22088682]), array([0., 0.]))"
      ]
     },
     "execution_count": 7,
     "metadata": {},
     "output_type": "execute_result"
    }
   ],
   "source": [
    "A = (\n",
    "  lambda x, y: x**2 + y**2 - 2,\n",
    "  lambda x, y: e**(x-1) + y**3 - 2\n",
    ")\n",
    "\n",
    "newton(A)"
   ]
  }
 ],
 "metadata": {
  "kernelspec": {
   "display_name": "Python 3",
   "language": "python",
   "name": "python3"
  },
  "language_info": {
   "codemirror_mode": {
    "name": "ipython",
    "version": 3
   },
   "file_extension": ".py",
   "mimetype": "text/x-python",
   "name": "python",
   "nbconvert_exporter": "python",
   "pygments_lexer": "ipython3",
   "version": "3.11.3"
  },
  "orig_nbformat": 4
 },
 "nbformat": 4,
 "nbformat_minor": 2
}
